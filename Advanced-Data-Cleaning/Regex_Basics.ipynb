{
 "cells": [
  {
   "cell_type": "code",
   "execution_count": 2,
   "metadata": {},
   "outputs": [],
   "source": [
    "import pandas as pd\n",
    "import re\n",
    "hn = pd.read_csv('hacker_news.csv')"
   ]
  },
  {
   "cell_type": "code",
   "execution_count": 3,
   "metadata": {},
   "outputs": [],
   "source": [
    "titles = hn[\"title\"].tolist()\n",
    "\n",
    "python_mentions = 0\n",
    "pattern = \"[Pp]ython\" \n",
    "\n",
    "for s in titles:\n",
    "    if re.search(pattern, s):\n",
    "        python_mentions += 1"
   ]
  },
  {
   "cell_type": "code",
   "execution_count": 4,
   "metadata": {},
   "outputs": [],
   "source": [
    "#Counting matches with pandas methods\n",
    "pattern = '[Pp]ython'\n",
    "\n",
    "titles = hn['title']\n",
    "\n",
    "python_mentions = titles.str.contains(pattern).sum()"
   ]
  },
  {
   "cell_type": "code",
   "execution_count": 5,
   "metadata": {},
   "outputs": [],
   "source": [
    "#Selecting data w regex\n",
    "titles = hn['title']\n",
    "\n",
    "# ruby_titles_bool = titles.str.contains(\"[Rr]uby\")\n",
    "# ruby_titles = titles[ruby_titles_bool]\n",
    "\n",
    "#one line\n",
    "ruby_titles = titles[titles.str.contains(\"[Rr]uby\")]"
   ]
  },
  {
   "cell_type": "code",
   "execution_count": 6,
   "metadata": {},
   "outputs": [],
   "source": [
    "#Using quantifiers\n",
    "#matches items from titles containing email or e-mail\n",
    "email_bool = titles.str.contains(\"e-?mail\")\n",
    "#count num of titles that match regex\n",
    "email_count = email_bool.sum()\n",
    "#selecting only items from titles that match\n",
    "email_titles = titles[email_bool]"
   ]
  },
  {
   "cell_type": "code",
   "execution_count": null,
   "metadata": {},
   "outputs": [],
   "source": [
    "#Character classes\n",
    "#matches a single open bracket, one or more word characters, single closed bracket\n",
    "pattern = \"\\[\\w+\\]\"\n",
    "tag_titles = titles[titles.str.contains(pattern)]\n",
    "\n",
    "tag_count = titles.str.contains(pattern).sum()"
   ]
  },
  {
   "cell_type": "code",
   "execution_count": 9,
   "metadata": {},
   "outputs": [],
   "source": [
    "#Using capture groups to access matching text\n",
    "pattern = r\"\\[(\\w+)\\]\"\n",
    "#create freq table of all tags in titles series\n",
    "tag_freq = titles.str.extract(pattern, expand=False).value_counts() #expand=False must be added in most recent version of pandas"
   ]
  },
  {
   "cell_type": "code",
   "execution_count": null,
   "metadata": {},
   "outputs": [],
   "source": [
    "#negative character cases\n",
    "def first_10_matches(pattern):\n",
    "    \"\"\"\n",
    "    Return the first 10 story titles that match\n",
    "    the provided regular expression\n",
    "    \"\"\"\n",
    "    \n",
    "    \n",
    "    all_matches = titles[titles.str.contains(pattern)]\n",
    "    first_10 = all_matches.head(10)\n",
    "    return first_10\n",
    "\n",
    "#Match any instance of Java or java, but not when followed by S or s\n",
    "pattern = r\"[Jj]ava[^Ss]\"\n",
    "java_titles = titles[titles.str.contains(pattern)]"
   ]
  },
  {
   "cell_type": "code",
   "execution_count": null,
   "metadata": {},
   "outputs": [],
   "source": [
    "#Using word boundaries\n",
    "#Matches position between a word character and non word character\n",
    "pattern = r\"\\b[Jj]ava\\b\"\n",
    "java_titles = titles[titles.str.contains(pattern)]"
   ]
  },
  {
   "cell_type": "code",
   "execution_count": 10,
   "metadata": {},
   "outputs": [],
   "source": [
    "#Matching at start and end\n",
    "#Note that the ^ character is used both as a beginning anchor and to indicate a negative set, depending on whether the character preceding it is a [ or not.\n",
    "#Start tag match\n",
    "pat1 = r\"^\\[\\w+\\]\"\n",
    "beginning_count = titles.str.contains(pat1).sum()\n",
    "#end tag match\n",
    "pat2 = r\"\\[\\w+\\]$\"\n",
    "ending_count = titles.str.contains(pat2).sum()"
   ]
  },
  {
   "cell_type": "code",
   "execution_count": 12,
   "metadata": {},
   "outputs": [
    {
     "output_type": "execute_result",
     "data": {
      "text/plain": "141"
     },
     "metadata": {},
     "execution_count": 12
    }
   ],
   "source": [
    "#Using flags to modify regex patterns\n",
    "#flags=re.I all uppercase matches lowercase variants\n",
    "#Match all variants of email\n",
    "\n",
    "email_tests = pd.Series(['email', 'Email', 'e Mail', 'e mail', 'E-mail',\n",
    "              'e-mail', 'eMail', 'E-Mail', 'EMAIL', 'emails', 'Emails',\n",
    "              'E-Mails'])\n",
    "\n",
    "pattern = r\"\\be[\\-\\s]?mails?\\b\"\n",
    "\n",
    "email_mentions = titles.str.contains(pattern, flags=re.I).sum()\n",
    "email_mentions"
   ]
  },
  {
   "cell_type": "code",
   "execution_count": null,
   "metadata": {},
   "outputs": [],
   "source": []
  }
 ],
 "metadata": {
  "language_info": {
   "codemirror_mode": {
    "name": "ipython",
    "version": 3
   },
   "file_extension": ".py",
   "mimetype": "text/x-python",
   "name": "python",
   "nbconvert_exporter": "python",
   "pygments_lexer": "ipython3",
   "version": "3.7.4-final"
  },
  "orig_nbformat": 2,
  "kernelspec": {
   "name": "python37464bitbasecondae6d94403c8c74c4da5694606c3b74da6",
   "display_name": "Python 3.7.4 64-bit ('base': conda)"
  }
 },
 "nbformat": 4,
 "nbformat_minor": 2
}