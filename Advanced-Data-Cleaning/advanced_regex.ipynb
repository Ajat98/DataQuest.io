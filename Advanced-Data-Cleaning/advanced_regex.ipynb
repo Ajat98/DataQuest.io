{
 "cells": [
  {
   "cell_type": "code",
   "execution_count": 1,
   "metadata": {},
   "outputs": [],
   "source": [
    "#Intro\n",
    "import pandas as pd\n",
    "import re\n",
    "\n",
    "hn = pd.read_csv(\"hacker_news.csv\")\n",
    "titles = hn['title']\n",
    "'''\n",
    "id: The unique identifier from Hacker News for the story\n",
    "title: The title of the story\n",
    "url: The URL that the stories links to, if the story has a URL\n",
    "num_points: The number of points the story acquired, calculated as the total number of upvotes minus the total number of downvotes\n",
    "num_comments: The number of comments that were made on the story\n",
    "author: The username of the person who submitted the story\n",
    "created_at: The date and time at which the story was submitted\n",
    "'''\n",
    "\n",
    "#Case insensitive pattern to match all variations of SQL, re.I flags ignores cases\n",
    "pattern = r\"sql\"\n",
    "sql_counts = titles.str.contains(pattern, flags=re.I).sum()"
   ]
  },
  {
   "cell_type": "code",
   "execution_count": 2,
   "metadata": {},
   "outputs": [],
   "source": [
    "#Capture Groups, Pivot Table, str.extract()\n",
    "\n",
    "hn_sql = hn[hn['title'].str.contains(r\"\\w+SQL\", flags=re.I)].copy()\n",
    "\n",
    "pattern = r\"(\\w+sql)\"\n",
    "#Create new col called flavor, extract all mentions of SQL followed by any character before\n",
    "hn_sql['flavor'] = hn_sql['title'].str.extract(pattern, flags=re.I)\n",
    "#Reassign with lowercase vals\n",
    "hn_sql['flavor'] = hn_sql['flavor'].str.lower()\n",
    "\n",
    "#Make pivot table, index flavor, values arregatet mean of num_comments\n",
    "sql_pivot = hn_sql.pivot_table(index='flavor', values = 'num_comments', aggfunc='mean')"
   ]
  },
  {
   "cell_type": "code",
   "execution_count": 3,
   "metadata": {},
   "outputs": [],
   "source": [
    "pattern = r\"[Pp]ython ([\\d\\.]+)\"\n",
    "\n",
    "#Expand = False to avoid DF has no object attribute value_counts error\n",
    "#Extract all versions\n",
    "py_versions = titles.str.extract(pattern, expand=False)\n",
    "\n",
    "#Create freq table of extracted versions\n",
    "py_versions_freq = dict(py_versions.value_counts())"
   ]
  },
  {
   "cell_type": "code",
   "execution_count": 4,
   "metadata": {},
   "outputs": [
    {
     "output_type": "execute_result",
     "data": {
      "text/plain": "365                      The new C standards are worth it\n444           Moz raises $10m Series C from Foundry Group\n521          Fuchsia: Micro kernel written in C by Google\n1307            Show HN: Yupp, yet another C preprocessor\n1326                     The C standard formalized in Coq\n1365                          GNU C Library 2.23 released\n1429    Cysignals: signal handling (SIGINT, SIGSEGV, )...\n1620                        SDCC  Small Device C Compiler\n1949    Rewriting a Ruby C Extension in Rust: How a Na...\n2195    MyHTML  HTML Parser on Pure C with POSIX Threa...\nName: title, dtype: object"
     },
     "metadata": {},
     "execution_count": 4
    }
   ],
   "source": [
    "#Negative set\n",
    "def first_10_matches(pattern):\n",
    "    \"\"\"\n",
    "    Return the first 10 story titles that match\n",
    "    the provided regular expression\n",
    "    \"\"\"\n",
    "    all_matches = titles[titles.str.contains(pattern)]\n",
    "    first_10 = all_matches.head(10)\n",
    "    return first_10\n",
    "\n",
    "#Matches c or C, excludes instances where either c is followed by . or +\n",
    "pattern = r\"\\b[Cc]\\b[^.+]\"\n",
    "first_ten = first_10_matches(pattern)\n",
    "first_ten"
   ]
  },
  {
   "cell_type": "code",
   "execution_count": 5,
   "metadata": {},
   "outputs": [],
   "source": [
    "#Using Lookarounds to check preceeding and followed strings\n",
    "#?<!Series\\s  matches where not preceed by Series and a whitespace\n",
    "# (?1[\\+\\.])  matches when patter does not end with 1 or more + or . characters\n",
    "#\\b[Cc]\\b Matches cC with word boundary. i.e only C,c when not part of another word\n",
    "pattern = r\"(?<!Series\\s)\\b[Cc]\\b(?![\\+\\.])\"\n",
    "\n",
    "#Sum count of matches in titles\n",
    "c_mentions = titles.str.contains(pattern).sum()\n",
    "    "
   ]
  },
  {
   "cell_type": "code",
   "execution_count": null,
   "metadata": {},
   "outputs": [],
   "source": [
    "pattern = r\"\\b(\\w+)\\s\\1\\b\"\n",
    "\n",
    "#Select items from titles that have series of 1 or more word characters, preceded and followed by boundary anchor\n",
    "repeated_words = titles[titles.str.contains(pattern)]"
   ]
  },
  {
   "cell_type": "code",
   "execution_count": 6,
   "metadata": {},
   "outputs": [],
   "source": [
    "#Replacing all variations with a string\n",
    "email_variations = pd.Series(['email', 'Email', 'e Mail',\n",
    "                        'e mail', 'E-mail', 'e-mail',\n",
    "                        'eMail', 'E-Mail', 'EMAIL'])\n",
    "\n",
    "#replace above variations with email, assign result to email_uniform\n",
    "pattern = r\"e[\\-\\s]?mail\"\n",
    "email_uniform = email_variations.str.replace(pattern, 'email', flags=re.I)\n",
    "\n",
    "#same pattern to replace all variations of email in titles\n",
    "titles_clean = titles.str.replace(pattern, 'email', flags=re.I)"
   ]
  },
  {
   "cell_type": "code",
   "execution_count": 8,
   "metadata": {},
   "outputs": [],
   "source": [
    "#EXTRACTING DOMAINS FROM LIST OF URLS\n",
    "\n",
    "test_urls = pd.Series([\n",
    " 'https://www.amazon.com/Technology-Ventures-Enterprise-Thomas-Byers/dp/0073523429',\n",
    " 'http://www.interactivedynamicvideo.com/',\n",
    " 'http://www.nytimes.com/2007/11/07/movies/07stein.html?_r=0',\n",
    " 'http://evonomics.com/advertising-cannot-maintain-internet-heres-solution/',\n",
    " 'HTTPS://github.com/keppel/pinn',\n",
    " 'Http://phys.org/news/2015-09-scale-solar-youve.html',\n",
    " 'https://iot.seeed.cc',\n",
    " 'http://www.bfilipek.com/2016/04/custom-deleters-for-c-smart-pointers.html',\n",
    " 'http://beta.crowdfireapp.com/?beta=agnipath',\n",
    " 'https://www.valid.ly?param',\n",
    " 'http://css-cursor.techstream.org'\n",
    "])\n",
    "\n",
    "#Extracts only the domain, from URL. First series matches protocol, next mactches\n",
    "#Chars in domain, since URL end with domain or continue with '/'.\n",
    "#No need to search for / since it is excluded from domain name.\n",
    "pattern = r\"https?://([\\w\\-\\.]+)\"\n",
    "\n",
    "#Extract just domain name and assign to test_urls_clean\n",
    "test_urls_clean = test_urls.str.extract(pattern, flags=re.I)\n",
    "\n",
    "#Extract domain name from column, assign to domains\n",
    "#EXPAND = false to avoid error of df not having value count option\n",
    "domains = hn['url'].str.extract(pattern, flags=re.I, expand = False)\n",
    "\n",
    "#Freq table of domain names, top5 only\n",
    "top_domains = domains.value_counts().head(5)\n"
   ]
  },
  {
   "cell_type": "code",
   "execution_count": 10,
   "metadata": {},
   "outputs": [
    {
     "output_type": "execute_result",
     "data": {
      "text/plain": "           0                                1  \\\n0       http  www.interactivedynamicvideo.com   \n1       http                  www.thewire.com   \n2      https                   www.amazon.com   \n3       http                  www.nytimes.com   \n4       http                  arstechnica.com   \n...      ...                              ...   \n20094  https                          puri.sm   \n20095  https                       medium.com   \n20096   http               blog.darknedgy.net   \n20097  https                       medium.com   \n20098  https                       github.com   \n\n                                                       2  \n0                                                         \n1      entertainment/2013/04/florida-djs-april-fools-...  \n2      Technology-Ventures-Enterprise-Thomas-Byers/dp...  \n3                    2007/11/07/movies/07stein.html?_r=0  \n4      business/2015/10/comcast-and-other-isps-boost-...  \n...                                                  ...  \n20094  philosophy/how-purism-avoids-intels-active-man...  \n20095  @zreitano/the-yc-application-broken-down-and-t...  \n20096                           technology/2016/01/01/0/  \n20097  @benjiwheeler/how-product-hunt-really-works-d8...  \n20098                                 jmcarp/robobrowser  \n\n[20099 rows x 3 columns]",
      "text/html": "<div>\n<style scoped>\n    .dataframe tbody tr th:only-of-type {\n        vertical-align: middle;\n    }\n\n    .dataframe tbody tr th {\n        vertical-align: top;\n    }\n\n    .dataframe thead th {\n        text-align: right;\n    }\n</style>\n<table border=\"1\" class=\"dataframe\">\n  <thead>\n    <tr style=\"text-align: right;\">\n      <th></th>\n      <th>0</th>\n      <th>1</th>\n      <th>2</th>\n    </tr>\n  </thead>\n  <tbody>\n    <tr>\n      <td>0</td>\n      <td>http</td>\n      <td>www.interactivedynamicvideo.com</td>\n      <td></td>\n    </tr>\n    <tr>\n      <td>1</td>\n      <td>http</td>\n      <td>www.thewire.com</td>\n      <td>entertainment/2013/04/florida-djs-april-fools-...</td>\n    </tr>\n    <tr>\n      <td>2</td>\n      <td>https</td>\n      <td>www.amazon.com</td>\n      <td>Technology-Ventures-Enterprise-Thomas-Byers/dp...</td>\n    </tr>\n    <tr>\n      <td>3</td>\n      <td>http</td>\n      <td>www.nytimes.com</td>\n      <td>2007/11/07/movies/07stein.html?_r=0</td>\n    </tr>\n    <tr>\n      <td>4</td>\n      <td>http</td>\n      <td>arstechnica.com</td>\n      <td>business/2015/10/comcast-and-other-isps-boost-...</td>\n    </tr>\n    <tr>\n      <td>...</td>\n      <td>...</td>\n      <td>...</td>\n      <td>...</td>\n    </tr>\n    <tr>\n      <td>20094</td>\n      <td>https</td>\n      <td>puri.sm</td>\n      <td>philosophy/how-purism-avoids-intels-active-man...</td>\n    </tr>\n    <tr>\n      <td>20095</td>\n      <td>https</td>\n      <td>medium.com</td>\n      <td>@zreitano/the-yc-application-broken-down-and-t...</td>\n    </tr>\n    <tr>\n      <td>20096</td>\n      <td>http</td>\n      <td>blog.darknedgy.net</td>\n      <td>technology/2016/01/01/0/</td>\n    </tr>\n    <tr>\n      <td>20097</td>\n      <td>https</td>\n      <td>medium.com</td>\n      <td>@benjiwheeler/how-product-hunt-really-works-d8...</td>\n    </tr>\n    <tr>\n      <td>20098</td>\n      <td>https</td>\n      <td>github.com</td>\n      <td>jmcarp/robobrowser</td>\n    </tr>\n  </tbody>\n</table>\n<p>20099 rows × 3 columns</p>\n</div>"
     },
     "metadata": {},
     "execution_count": 10
    }
   ],
   "source": [
    "#EXTRACTING URL PARTS USING MULTIPLE CAPTURE GROUPS\n",
    "# `test_urls` is available from the previous screen\n",
    "#Capture url components in 3 groups:\n",
    "#First contains protocol text, up to ://\n",
    "#second contains domain, after :// not including /\n",
    "#third contains page path, from / to end of string\n",
    "\n",
    "#captures http + optional s, captures 1 or more word chars with either. or -, \n",
    "#captures zero ir more non-newline characters\n",
    "pattern = r\"(https?)://([\\w\\.\\-]+)/?(.*)\"\n",
    "\n",
    "test_url_parts = test_urls.str.extract(pattern, flags=re.I)\n",
    "\n",
    "url_parts = hn['url'].str.extract(pattern, flags=re.I)\n",
    "url_parts"
   ]
  },
  {
   "cell_type": "code",
   "execution_count": null,
   "metadata": {},
   "outputs": [],
   "source": [
    "#NAMED CAPTURE GROUPS TO EXRACT DATA \n",
    "#Add labels to 3 capture groups\n",
    "pattern = r\"(?P<protocol>https?)://(?P<domain>.[\\w\\.\\-]+)/?(?P<path>.*)\"\n",
    "#Capture same as above section for 'url' column of hn\n",
    "url_parts = hn['url'].str.extract(pattern, flags=re.I)"
   ]
  }
 ],
 "metadata": {
  "language_info": {
   "codemirror_mode": {
    "name": "ipython",
    "version": 3
   },
   "file_extension": ".py",
   "mimetype": "text/x-python",
   "name": "python",
   "nbconvert_exporter": "python",
   "pygments_lexer": "ipython3",
   "version": "3.7.4-final"
  },
  "orig_nbformat": 2,
  "kernelspec": {
   "name": "python37464bitbasecondae6d94403c8c74c4da5694606c3b74da6",
   "display_name": "Python 3.7.4 64-bit ('base': conda)"
  }
 },
 "nbformat": 4,
 "nbformat_minor": 2
}