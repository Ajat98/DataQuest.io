{
 "cells": [
  {
   "cell_type": "code",
   "execution_count": null,
   "metadata": {},
   "outputs": [],
   "source": [
    "#JSON Format\n",
    "import json\n",
    "world_cup_str = \"\"\"\n",
    "[\n",
    "    {\n",
    "        \"team_1\": \"France\",\n",
    "        \"team_2\": \"Croatia\",\n",
    "        \"game_type\": \"Final\",\n",
    "        \"score\" : [4, 2]\n",
    "    },\n",
    "    {\n",
    "        \"team_1\": \"Belgium\",\n",
    "        \"team_2\": \"England\",\n",
    "        \"game_type\": \"3rd/4th Playoff\",\n",
    "        \"score\" : [2, 0]\n",
    "    }\n",
    "]\n",
    "\"\"\"\n",
    "\n",
    "world_cup_obj = json.loads(world_cup_str)\n",
    "\n",
    "world_cup_obj"
   ]
  },
  {
   "cell_type": "code",
   "execution_count": null,
   "metadata": {},
   "outputs": [],
   "source": [
    "#Reading a JSON file\n",
    "\n",
    "file = open('hn_2014.json')\n",
    "hn = json.load(file)"
   ]
  },
  {
   "cell_type": "code",
   "execution_count": null,
   "metadata": {},
   "outputs": [],
   "source": [
    "#Formatting and deleting keys\n",
    "\n",
    "#Returns a copy of the json object with key removed\n",
    "def del_key(dict_, key):\n",
    "    # create a copy so we don't\n",
    "    # modify the original dict\n",
    "    modified_dict = dict_.copy()\n",
    "    del modified_dict[key]\n",
    "    return modified_dict\n",
    "\n",
    "hn_clean = []\n",
    "\n",
    "for i in hn:\n",
    "    hn_clean.append(del_key(i, 'createdAtI'))\n",
    "    \n",
    "#Easier to read\n",
    "for j in hn:\n",
    "    new_d = del_key(j, 'createdAtI')\n",
    "    hn_clean.append(new_d)\n"
   ]
  },
  {
   "cell_type": "code",
   "execution_count": null,
   "metadata": {},
   "outputs": [],
   "source": [
    "#List comp of previous code\n",
    "hn_clean = [del_key(d, 'createdAtI') for d in hn]\n"
   ]
  },
  {
   "cell_type": "code",
   "execution_count": null,
   "metadata": {},
   "outputs": [],
   "source": [
    "#List comprehension on a list of dictionaries\n",
    "#hn[0]['url']\n",
    "#Extracting just the url \n",
    "urls = [ hn[i]['url'] for i in range(len(hn)) ]"
   ]
  },
  {
   "cell_type": "code",
   "execution_count": null,
   "metadata": {},
   "outputs": [],
   "source": [
    "#Reducing Lists\n",
    "#Only values from hn_clean where points key has val < 1000\n",
    "thousand_points = [ d for d in hn_clean if d['points'] > 1000]\n",
    "\n",
    "num_thousand_points = len(thousand_points)"
   ]
  },
  {
   "cell_type": "code",
   "execution_count": null,
   "metadata": {},
   "outputs": [],
   "source": [
    "#Passing funcs as an argument with 'key'\n",
    "#Def function to return val at numComments key, then use max to find object in list with most comments\n",
    "def get_num_comments(d):\n",
    "    return d['numComments']\n",
    "\n",
    "most_comments = max(hn_clean, key=get_num_comments)"
   ]
  },
  {
   "cell_type": "code",
   "execution_count": null,
   "metadata": {},
   "outputs": [],
   "source": [
    "#Basic Lamba Referesher\n",
    "# def multiply(a, b):\n",
    "#    return a * b\n",
    "\n",
    "multiply = lambda a , b: a*b\n"
   ]
  },
  {
   "cell_type": "code",
   "execution_count": null,
   "metadata": {},
   "outputs": [],
   "source": [
    "#Lambda followed by List comp to analyse JSON data\n",
    "#Sort objects by points in order of highest to lowest\n",
    "hn_sorted_points = sorted(hn_clean, key=lambda x: x['points'], reverse=True)\n",
    "\n",
    "#Titles of the top 5 highest point objects\n",
    "top_5_titles = [x['title'] for x in hn_sorted_points[:5]]"
   ]
  },
  {
   "cell_type": "code",
   "execution_count": null,
   "metadata": {},
   "outputs": [],
   "source": [
    "#Pandas df from json\n",
    "import pandas as pd\n",
    "\n",
    "hn_df = pd.DataFrame(hn_clean)\n",
    "hn_df"
   ]
  },
  {
   "cell_type": "code",
   "execution_count": null,
   "metadata": {},
   "outputs": [],
   "source": [
    "#Exploring using the Apply Function\n",
    "\n",
    "tags = hn_df['tags']\n",
    "#Boolean mask, where len of tags col == 4\n",
    "tag_4 = tags.apply(len) == 4\n",
    "\n",
    "#Only values that match the above boolean\n",
    "four_tags = tags[tag_4]\n"
   ]
  },
  {
   "cell_type": "code",
   "execution_count": null,
   "metadata": {},
   "outputs": [],
   "source": [
    "#Extracting tags using Apply and lambda\n",
    "\n",
    "# def extract_tag(l):\n",
    "#     return l[-1] if len(l) == 4 else None\n",
    "\n",
    "#If len of tags col is 4, return the last item, else none\n",
    "cleaned_tags = tags.apply(lambda l: l[-1] if len(l) == 4 else None)\n",
    "\n",
    "hn_df['tags'] = cleaned_tags"
   ]
  }
 ],
 "metadata": {
  "language_info": {
   "codemirror_mode": {
    "name": "ipython",
    "version": 3
   },
   "file_extension": ".py",
   "mimetype": "text/x-python",
   "name": "python",
   "nbconvert_exporter": "python",
   "pygments_lexer": "ipython3",
   "version": "3.7.4-final"
  },
  "orig_nbformat": 2,
  "kernelspec": {
   "name": "python37464bitbasecondae6d94403c8c74c4da5694606c3b74da6",
   "display_name": "Python 3.7.4 64-bit ('base': conda)"
  }
 },
 "nbformat": 4,
 "nbformat_minor": 2
}