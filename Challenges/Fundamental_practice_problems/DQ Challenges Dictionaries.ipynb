{
 "cells": [
  {
   "cell_type": "code",
   "execution_count": 1,
   "metadata": {},
   "outputs": [
    {
     "output_type": "error",
     "ename": "FileNotFoundError",
     "evalue": "[Errno 2] No such file or directory: 'users.csv'",
     "traceback": [
      "\u001b[1;31m---------------------------------------------------------------------------\u001b[0m",
      "\u001b[1;31mFileNotFoundError\u001b[0m                         Traceback (most recent call last)",
      "\u001b[1;32m<ipython-input-1-f1baf8d0b436>\u001b[0m in \u001b[0;36m<module>\u001b[1;34m\u001b[0m\n\u001b[0;32m      2\u001b[0m \u001b[1;32mfrom\u001b[0m \u001b[0mcsv\u001b[0m \u001b[1;32mimport\u001b[0m \u001b[0mreader\u001b[0m\u001b[1;33m\u001b[0m\u001b[1;33m\u001b[0m\u001b[0m\n\u001b[0;32m      3\u001b[0m \u001b[1;33m\u001b[0m\u001b[0m\n\u001b[1;32m----> 4\u001b[1;33m \u001b[0mf\u001b[0m \u001b[1;33m=\u001b[0m \u001b[0mopen\u001b[0m\u001b[1;33m(\u001b[0m\u001b[1;34m'users.csv'\u001b[0m\u001b[1;33m)\u001b[0m\u001b[1;33m\u001b[0m\u001b[1;33m\u001b[0m\u001b[0m\n\u001b[0m\u001b[0;32m      5\u001b[0m \u001b[0mreader\u001b[0m \u001b[1;33m=\u001b[0m \u001b[0mcsv\u001b[0m\u001b[1;33m.\u001b[0m\u001b[0mreader\u001b[0m\u001b[1;33m(\u001b[0m\u001b[0mf\u001b[0m\u001b[1;33m)\u001b[0m\u001b[1;33m\u001b[0m\u001b[1;33m\u001b[0m\u001b[0m\n\u001b[0;32m      6\u001b[0m \u001b[0mvals\u001b[0m \u001b[1;33m=\u001b[0m \u001b[0mlist\u001b[0m\u001b[1;33m(\u001b[0m\u001b[0mreader\u001b[0m\u001b[1;33m)\u001b[0m\u001b[1;33m[\u001b[0m\u001b[1;36m1\u001b[0m\u001b[1;33m:\u001b[0m\u001b[1;33m]\u001b[0m\u001b[1;33m\u001b[0m\u001b[1;33m\u001b[0m\u001b[0m\n",
      "\u001b[1;31mFileNotFoundError\u001b[0m: [Errno 2] No such file or directory: 'users.csv'"
     ]
    }
   ],
   "source": [
    "#Converting csv to dict\n",
    "from csv import reader\n",
    "\n",
    "f = open('users.csv') \n",
    "reader = csv.reader(f)\n",
    "vals = list(reader)[1:] \n",
    "\n",
    "name_to_email = {}\n",
    "for r in vals:\n",
    "    name_to_email[r[0]] = r[1]\n",
    "\n",
    "william_email =name_to_email['William Chase']\n",
    "madison_email = name_to_email['Madison Wallace']\n"
   ]
  },
  {
   "cell_type": "code",
   "execution_count": 2,
   "metadata": {},
   "outputs": [
    {
     "output_type": "error",
     "ename": "NameError",
     "evalue": "name 'name_to_email' is not defined",
     "traceback": [
      "\u001b[1;31m---------------------------------------------------------------------------\u001b[0m",
      "\u001b[1;31mNameError\u001b[0m                                 Traceback (most recent call last)",
      "\u001b[1;32m<ipython-input-2-a74130cf8bd3>\u001b[0m in \u001b[0;36m<module>\u001b[1;34m\u001b[0m\n\u001b[0;32m      2\u001b[0m \u001b[0memail_to_name\u001b[0m \u001b[1;33m=\u001b[0m \u001b[1;33m{\u001b[0m\u001b[1;33m}\u001b[0m\u001b[1;33m\u001b[0m\u001b[1;33m\u001b[0m\u001b[0m\n\u001b[0;32m      3\u001b[0m \u001b[1;33m\u001b[0m\u001b[0m\n\u001b[1;32m----> 4\u001b[1;33m \u001b[1;32mfor\u001b[0m \u001b[0mkey\u001b[0m \u001b[1;32min\u001b[0m \u001b[0mname_to_email\u001b[0m\u001b[1;33m.\u001b[0m\u001b[0mkeys\u001b[0m\u001b[1;33m(\u001b[0m\u001b[1;33m)\u001b[0m\u001b[1;33m:\u001b[0m\u001b[1;33m\u001b[0m\u001b[1;33m\u001b[0m\u001b[0m\n\u001b[0m\u001b[0;32m      5\u001b[0m     \u001b[0memail_to_name\u001b[0m\u001b[1;33m[\u001b[0m\u001b[0mname_to_email\u001b[0m\u001b[1;33m[\u001b[0m\u001b[0mkey\u001b[0m\u001b[1;33m]\u001b[0m\u001b[1;33m]\u001b[0m \u001b[1;33m=\u001b[0m \u001b[0mkey\u001b[0m\u001b[1;33m\u001b[0m\u001b[1;33m\u001b[0m\u001b[0m\n\u001b[0;32m      6\u001b[0m \u001b[1;33m\u001b[0m\u001b[0m\n",
      "\u001b[1;31mNameError\u001b[0m: name 'name_to_email' is not defined"
     ]
    }
   ],
   "source": [
    "#Reversing a dict\n",
    "email_to_name = {}\n",
    "\n",
    "for key in name_to_email.keys():\n",
    "    email_to_name[name_to_email[key]] = key \n",
    "    \n",
    "name = email_to_name['brian.rodgers@brown.org']\n",
    "print(name)\n",
    "\n",
    "              "
   ]
  },
  {
   "cell_type": "code",
   "execution_count": 3,
   "metadata": {},
   "outputs": [
    {
     "output_type": "stream",
     "name": "stdout",
     "text": "the_room_temperature_is_12.5_degrees_celsius_but_outside_it_is_20.6_degrees\n"
    }
   ],
   "source": [
    "#String cleaning\n",
    "cleaning_dict = {'A': 'a', 'B': 'b', 'C': 'c', 'D': 'd', 'E': 'e', 'F': 'f', 'G': 'g', 'H': 'h', 'I': 'i', 'J': 'j', 'K': 'k', 'L': 'l', 'M': 'm', 'N': 'n', 'O': 'o', 'P': 'p', 'Q': 'q', 'R': 'r', 'S': 's', 'T': 't', 'U': 'u', 'V': 'v', 'W': 'w', 'X': 'x', 'Y': 'y', 'Z': 'z', ' ': '_', ',': '.'}\n",
    "text_to_clean = \"The roOm temPeraTUre is 12,5 deGrEes ceLSIus buT oUtsiDE iT IS 20.6 degreeS\"\n",
    "\n",
    "cleaned_text = ''\n",
    "\n",
    "for c in text_to_clean:\n",
    "    if c in cleaning_dict.keys():\n",
    "        cleaned_text += cleaning_dict[c]\n",
    "    else:\n",
    "        cleaned_text += c\n",
    "print(cleaned_text)\n",
    " "
   ]
  },
  {
   "cell_type": "code",
   "execution_count": null,
   "metadata": {},
   "outputs": [],
   "source": [
    "#Counting values\n",
    "from csv import reader\n",
    "\n",
    "f = open('sales.csv') \n",
    "reader = csv.reader(f)\n",
    "vals = list(reader)[1:]\n",
    "\n",
    "sales={}\n",
    "for i in vals:\n",
    "    if i[0] in sales:\n",
    "        sales[i[0]] +=1\n",
    "    else:\n",
    "        sales[i[0]] = 1\n",
    "\n",
    "for c in sales:\n",
    "    print(c, sales[c])\n",
    "\n",
    "    "
   ]
  },
  {
   "cell_type": "code",
   "execution_count": 4,
   "metadata": {},
   "outputs": [
    {
     "output_type": "error",
     "ename": "FileNotFoundError",
     "evalue": "[Errno 2] No such file or directory: 'restaurants.csv'",
     "traceback": [
      "\u001b[1;31m---------------------------------------------------------------------------\u001b[0m",
      "\u001b[1;31mFileNotFoundError\u001b[0m                         Traceback (most recent call last)",
      "\u001b[1;32m<ipython-input-4-bff6be25497c>\u001b[0m in \u001b[0;36m<module>\u001b[1;34m\u001b[0m\n\u001b[0;32m     27\u001b[0m \u001b[1;32mfrom\u001b[0m \u001b[0mcsv\u001b[0m \u001b[1;32mimport\u001b[0m \u001b[0mreader\u001b[0m\u001b[1;33m\u001b[0m\u001b[1;33m\u001b[0m\u001b[0m\n\u001b[0;32m     28\u001b[0m \u001b[1;31m# read the CSV file\u001b[0m\u001b[1;33m\u001b[0m\u001b[1;33m\u001b[0m\u001b[1;33m\u001b[0m\u001b[0m\n\u001b[1;32m---> 29\u001b[1;33m \u001b[0mfile\u001b[0m \u001b[1;33m=\u001b[0m \u001b[0mopen\u001b[0m\u001b[1;33m(\u001b[0m\u001b[1;34m\"restaurants.csv\"\u001b[0m\u001b[1;33m)\u001b[0m\u001b[1;33m\u001b[0m\u001b[1;33m\u001b[0m\u001b[0m\n\u001b[0m\u001b[0;32m     30\u001b[0m \u001b[0mfile_reader\u001b[0m \u001b[1;33m=\u001b[0m \u001b[0mreader\u001b[0m\u001b[1;33m(\u001b[0m\u001b[0mfile\u001b[0m\u001b[1;33m)\u001b[0m\u001b[1;33m\u001b[0m\u001b[1;33m\u001b[0m\u001b[0m\n\u001b[0;32m     31\u001b[0m \u001b[0mrows\u001b[0m \u001b[1;33m=\u001b[0m \u001b[0mlist\u001b[0m\u001b[1;33m(\u001b[0m\u001b[0mfile_reader\u001b[0m\u001b[1;33m)\u001b[0m\u001b[1;33m[\u001b[0m\u001b[1;36m1\u001b[0m\u001b[1;33m:\u001b[0m\u001b[1;33m]\u001b[0m \u001b[1;31m# ignore column headers\u001b[0m\u001b[1;33m\u001b[0m\u001b[1;33m\u001b[0m\u001b[0m\n",
      "\u001b[1;31mFileNotFoundError\u001b[0m: [Errno 2] No such file or directory: 'restaurants.csv'"
     ]
    }
   ],
   "source": [
    "#Max val in dict\n",
    "# f = open('restaurants.csv') \n",
    "# reader = csv.reader(f)\n",
    "# vals = list(reader)[1:]\n",
    "\n",
    "# hood = {}\n",
    "\n",
    "# for i in vals:\n",
    "#     if i[1] in hood:\n",
    "#         hood[i[1]] += 1\n",
    "#     else:\n",
    "#         hood[i[1]] = 1\n",
    "        \n",
    "# # most_restaurants = max(hood, key=hood.get)\n",
    "# # print(most_restaurants)\n",
    "\n",
    "# maximum = 0\n",
    "\n",
    "# for k in hood:\n",
    "#     if hood[k] > maximum:\n",
    "#         maximum = hood[k]\n",
    "#         most_restaurants = k\n",
    "        \n",
    "# print( most_restaurants)\n",
    "\n",
    "#MY CODE GIVES THE EXACT SAME OUTPUT AS THIS CODE\n",
    "from csv import reader\n",
    "# read the CSV file\n",
    "file = open(\"restaurants.csv\")\n",
    "file_reader = reader(file)\n",
    "rows = list(file_reader)[1:] # ignore column headers\n",
    "# create the frequency table\n",
    "count = {}\n",
    "for row in rows:\n",
    "    neighborhood = row[1]\n",
    "    if neighborhood in count:\n",
    "        count[neighborhood] += 1\n",
    "    else:\n",
    "        count[neighborhood] = 1\n",
    "# compute the maximum frequency and the correspoding restaurant\n",
    "maximum = 0\n",
    "most_restaurants = None\n",
    "for neighborhood in count:\n",
    "    # check whether the current neighborhood has more restaurant than\n",
    "    # the current maximum. If so, update the maximum and the most_restaurants variable\n",
    "    if maximum < count[neighborhood]:\n",
    "        maximum = count[neighborhood]\n",
    "        most_restaurants = neighborhood\n",
    "print(most_restaurants)"
   ]
  },
  {
   "cell_type": "code",
   "execution_count": null,
   "metadata": {},
   "outputs": [],
   "source": []
  }
 ],
 "metadata": {
  "language_info": {
   "codemirror_mode": {
    "name": "ipython",
    "version": 3
   },
   "file_extension": ".py",
   "mimetype": "text/x-python",
   "name": "python",
   "nbconvert_exporter": "python",
   "pygments_lexer": "ipython3",
   "version": "3.7.4-final"
  },
  "orig_nbformat": 2,
  "kernelspec": {
   "name": "python37464bitbasecondae6d94403c8c74c4da5694606c3b74da6",
   "display_name": "Python 3.7.4 64-bit ('base': conda)"
  }
 },
 "nbformat": 4,
 "nbformat_minor": 2
}