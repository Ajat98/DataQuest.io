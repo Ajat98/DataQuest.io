{
 "cells": [
  {
   "cell_type": "code",
   "execution_count": null,
   "metadata": {},
   "outputs": [],
   "source": [
    "#Setup\n",
    "import pandas as pd\n",
    "import matplotlib as plt\n",
    "\n",
    "happiness2015 = pd.read_csv(\"World_Happiness_2015.csv\")\n",
    "\n",
    "first_5 = happiness2015.head()\n",
    "first_5.info()\n"
   ]
  },
  {
   "cell_type": "code",
   "execution_count": null,
   "metadata": {},
   "outputs": [],
   "source": [
    "#Visualization refresher\n",
    "mean_happiness\n",
    "so_asia = happiness2015[happiness2015['Region'] == 'Southern Asia']\n",
    "so_asia.plot(x='Country', y='Happiness Score', kind='barh', title='Southern Asia Happiness Scores', xlim=(0,10))"
   ]
  },
  {
   "cell_type": "code",
   "execution_count": null,
   "metadata": {},
   "outputs": [],
   "source": [
    "#Aggregating with loops\n",
    "mean_happiness = {}\n",
    "#Taking only unique values from region series\n",
    "arr = happiness2015['Region'].unique() \n",
    "\n",
    "#loop over unique values in Region column, assign rows which equal the current value to regioun group, \n",
    "#Series.mean() to calculate mean 'Happiness Score' from column, then insert key/val pair to dictionary\n",
    "for reg in arr:\n",
    "    region_group = happiness2015[happiness2015['Region'] == reg]\n",
    "    region_mean = region_group['Happiness Score'].mean()\n",
    "                               \n",
    "    mean_happiness[reg] = region_mean\n",
    "    \n",
    "    \n",
    "    "
   ]
  },
  {
   "cell_type": "markdown",
   "metadata": {},
   "source": [
    "#Breaking down steps from above\n",
    "#1-Split DF into groups, 2- Apply a function to each group, 3-Combine results into one data structure"
   ]
  },
  {
   "cell_type": "code",
   "execution_count": null,
   "metadata": {},
   "outputs": [],
   "source": [
    "#Creating GroupBy Objects - df.groupby('col'), can replace col with lists as well\n",
    "\n",
    "#Num of uniq values in each region for entire df\n",
    "#happiness2015['Region'].value_counts()\n",
    "\n",
    "grouped = happiness2015.groupby('Region')\n",
    "aus_nz = grouped.get_group('Australia and New Zealand')\n"
   ]
  },
  {
   "cell_type": "code",
   "execution_count": null,
   "metadata": {},
   "outputs": [],
   "source": [
    "#Exploring GroupBy objects, practice with groups attribute and get_group()\n",
    "grouped.groups\n",
    "\n",
    "north_america = happiness2015.iloc[[4,14]]\n",
    "\n",
    "na_group = grouped.get_group('North America')\n",
    "\n",
    "equal = north_america == na_group\n"
   ]
  },
  {
   "cell_type": "code",
   "execution_count": null,
   "metadata": {},
   "outputs": [],
   "source": [
    "#Common groupby aggregation methods\n",
    "#Pandas - Methods\tDescription \n",
    "'''\n",
    "mean()\tCalculates the mean of groups.\n",
    "sum()\tCalculates the sum of group values.\n",
    "size()\tCalculates the size of the groups.\n",
    "count()\tCalculates the count of values in groups.\n",
    "min()\tCalculates the minimum of group values.\n",
    "max()\tCalculates the maximum of group values.\n",
    "'''\n",
    "grouped = happiness2015.groupby('Region')\n",
    "means = grouped.mean()\n",
    "grouped.mean()\n"
   ]
  },
  {
   "cell_type": "code",
   "execution_count": null,
   "metadata": {},
   "outputs": [],
   "source": [
    "#Aggregating Specific Columns\n",
    "grouped = happiness2015.groupby('Region')\n",
    "happy_grouped = grouped['Happiness Score']\n",
    "happy_mean = happy_grouped.mean()\n",
    "\n"
   ]
  },
  {
   "cell_type": "code",
   "execution_count": null,
   "metadata": {},
   "outputs": [],
   "source": [
    "#Using the agg() method, GroupBy.agg([Func1Name, Func2Name, Func3Name])\n",
    "import numpy as np\n",
    "grouped = happiness2015.groupby('Region')\n",
    "happy_grouped = grouped['Happiness Score']\n",
    "\n",
    "def dif(group):\n",
    "    return (group.max() - group.mean())\n",
    "\n",
    "happy_mean_max = happy_grouped.agg([np.mean, np.max])\n",
    "mean_max_dif = happy_grouped.agg(dif)\n",
    "happy_grouped.agg([np.mean, np.max]) #To show output\n"
   ]
  },
  {
   "cell_type": "code",
   "execution_count": null,
   "metadata": {},
   "outputs": [],
   "source": [
    "#Multiple & custom aggregations with agg()\n",
    "#e.g. \n",
    "happiness2015.groupby('Region')['Happiness Score'].agg(dif)\n",
    "#Same as \n",
    "def dif(group):\n",
    "    return(group.max() - group.mean())\n",
    "happy_grouped.agg(dif)\n"
   ]
  },
  {
   "cell_type": "code",
   "execution_count": null,
   "metadata": {},
   "outputs": [],
   "source": [
    "#Multiple & custom aggregations with agg() continued\n",
    "#Values in Region Column --> INDEX of the series with VALUES --> Happiness Score aggregated \n",
    "happiness_means = happiness2015.groupby('Region')['Happiness Score'].mean()\n",
    "print(happiness_means)\n"
   ]
  },
  {
   "cell_type": "code",
   "execution_count": null,
   "metadata": {},
   "outputs": [],
   "source": [
    "#Same As above using Aggregation with Pivot Tables\n",
    "happiness2015.pivot_table(values='Happiness Score', index='Region', aggfunc=np.mean)\n",
    "#Returns a DF"
   ]
  },
  {
   "cell_type": "code",
   "execution_count": null,
   "metadata": {},
   "outputs": [],
   "source": [
    "#Aggregation with Pivot Tables Plotting\n",
    "pv_happiness = happiness2015.pivot_table(values='Happiness Score', index='Region', aggfunc=np.mean, margins=True)\n",
    "pv_happiness.plot(kind='barh', xlim=(0,10), title='Mean Happiness Scores by Region', legend=False)\n",
    "world_mean_happiness = happiness2015['Happiness Score'].mean()\n",
    "\n"
   ]
  },
  {
   "cell_type": "code",
   "execution_count": 45,
   "metadata": {},
   "outputs": [
    {
     "output_type": "execute_result",
     "data": {
      "text/plain": "                                           mean            amin  \\\n                                Happiness Score Happiness Score   \nRegion                                                            \nAustralia and New Zealand              7.285000           7.284   \nCentral and Eastern Europe             5.332931           4.218   \nEastern Asia                           5.626167           4.874   \nLatin America and Caribbean            6.144682           4.518   \nMiddle East and Northern Africa        5.406900           3.006   \nNorth America                          7.273000           7.119   \nSoutheastern Asia                      5.317444           3.819   \nSouthern Asia                          4.580857           3.575   \nSub-Saharan Africa                     4.202800           2.839   \nWestern Europe                         6.689619           4.857   \nAll                                    5.375734           2.839   \n\n                                           amax  \n                                Happiness Score  \nRegion                                           \nAustralia and New Zealand                 7.286  \nCentral and Eastern Europe                6.505  \nEastern Asia                              6.298  \nLatin America and Caribbean               7.226  \nMiddle East and Northern Africa           7.278  \nNorth America                             7.427  \nSoutheastern Asia                         6.798  \nSouthern Asia                             5.253  \nSub-Saharan Africa                        5.477  \nWestern Europe                            7.587  \nAll                                       7.587  ",
      "text/html": "<div>\n<style scoped>\n    .dataframe tbody tr th:only-of-type {\n        vertical-align: middle;\n    }\n\n    .dataframe tbody tr th {\n        vertical-align: top;\n    }\n\n    .dataframe thead tr th {\n        text-align: left;\n    }\n\n    .dataframe thead tr:last-of-type th {\n        text-align: right;\n    }\n</style>\n<table border=\"1\" class=\"dataframe\">\n  <thead>\n    <tr>\n      <th></th>\n      <th>mean</th>\n      <th>amin</th>\n      <th>amax</th>\n    </tr>\n    <tr>\n      <th></th>\n      <th>Happiness Score</th>\n      <th>Happiness Score</th>\n      <th>Happiness Score</th>\n    </tr>\n    <tr>\n      <th>Region</th>\n      <th></th>\n      <th></th>\n      <th></th>\n    </tr>\n  </thead>\n  <tbody>\n    <tr>\n      <td>Australia and New Zealand</td>\n      <td>7.285000</td>\n      <td>7.284</td>\n      <td>7.286</td>\n    </tr>\n    <tr>\n      <td>Central and Eastern Europe</td>\n      <td>5.332931</td>\n      <td>4.218</td>\n      <td>6.505</td>\n    </tr>\n    <tr>\n      <td>Eastern Asia</td>\n      <td>5.626167</td>\n      <td>4.874</td>\n      <td>6.298</td>\n    </tr>\n    <tr>\n      <td>Latin America and Caribbean</td>\n      <td>6.144682</td>\n      <td>4.518</td>\n      <td>7.226</td>\n    </tr>\n    <tr>\n      <td>Middle East and Northern Africa</td>\n      <td>5.406900</td>\n      <td>3.006</td>\n      <td>7.278</td>\n    </tr>\n    <tr>\n      <td>North America</td>\n      <td>7.273000</td>\n      <td>7.119</td>\n      <td>7.427</td>\n    </tr>\n    <tr>\n      <td>Southeastern Asia</td>\n      <td>5.317444</td>\n      <td>3.819</td>\n      <td>6.798</td>\n    </tr>\n    <tr>\n      <td>Southern Asia</td>\n      <td>4.580857</td>\n      <td>3.575</td>\n      <td>5.253</td>\n    </tr>\n    <tr>\n      <td>Sub-Saharan Africa</td>\n      <td>4.202800</td>\n      <td>2.839</td>\n      <td>5.477</td>\n    </tr>\n    <tr>\n      <td>Western Europe</td>\n      <td>6.689619</td>\n      <td>4.857</td>\n      <td>7.587</td>\n    </tr>\n    <tr>\n      <td>All</td>\n      <td>5.375734</td>\n      <td>2.839</td>\n      <td>7.587</td>\n    </tr>\n  </tbody>\n</table>\n</div>"
     },
     "metadata": {},
     "execution_count": 45
    }
   ],
   "source": [
    "#Aggregating Multiple Columns and Functions with Pivot Tables\n",
    "#e.g. Aggregate both happiness score and family columns and group by region column\n",
    "happiness2015.pivot_table(['Happiness Score', 'Family'], 'Region')\n",
    "#Applying multiple functions with a list of funcs in aggfunc param\n",
    "happiness2015.pivot_table('Happiness Score', 'Region', aggfunc=[np.mean, np.min , np.max], margins=True)"
   ]
  },
  {
   "cell_type": "code",
   "execution_count": 47,
   "metadata": {},
   "outputs": [],
   "source": [
    "#comparing groupby to pivot tables\n",
    "#Using GroupBy\n",
    "grouped = happiness2015.groupby('Region')[['Happiness Score', 'Family']]\n",
    "happy_family_stats = grouped.agg([np.min, np.max, np.mean])\n",
    "\n",
    "#Using pivot tables\n",
    "pv_happy_family_stats = happiness2015.pivot_table(['Happiness Score', 'Family'], 'Region', aggfunc=[np.min, np.max, np.mean], margins=True)\n",
    "\n",
    "\n"
   ]
  },
  {
   "cell_type": "code",
   "execution_count": null,
   "metadata": {},
   "outputs": [],
   "source": []
  }
 ],
 "metadata": {
  "language_info": {
   "codemirror_mode": {
    "name": "ipython",
    "version": 3
   },
   "file_extension": ".py",
   "mimetype": "text/x-python",
   "name": "python",
   "nbconvert_exporter": "python",
   "pygments_lexer": "ipython3",
   "version": "3.7.4-final"
  },
  "orig_nbformat": 2,
  "kernelspec": {
   "name": "python37464bitbasecondae6d94403c8c74c4da5694606c3b74da6",
   "display_name": "Python 3.7.4 64-bit ('base': conda)"
  }
 },
 "nbformat": 4,
 "nbformat_minor": 2
}