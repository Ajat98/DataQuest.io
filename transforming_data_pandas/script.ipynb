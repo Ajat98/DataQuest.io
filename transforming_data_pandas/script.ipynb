{
 "cells": [
  {
   "cell_type": "code",
   "execution_count": 13,
   "metadata": {},
   "outputs": [],
   "source": [
    "#Setup\n",
    "import pandas as pd\n",
    "happiness2015 = pd.read_csv('World_Happiness_2015.csv')\n",
    "\n",
    "#mapping\n",
    "mapping = {'Economy (GDP per Capita)': 'Economy', 'Health (Life Expectancy)': 'Health', 'Trust (Government Corruption)': 'Trust' }\n",
    "happiness2015 = happiness2015.rename(mapping, axis=1)"
   ]
  },
  {
   "cell_type": "code",
   "execution_count": 14,
   "metadata": {},
   "outputs": [],
   "source": [
    "#Function element-wise using map and apply methods\n",
    "def label(element):\n",
    "    if element > 1:\n",
    "        return 'High'\n",
    "    else:\n",
    "        return 'Low'\n",
    "\n",
    "economy_impact_map = happiness2015['Economy'].map(label)\n",
    "economy_impact_apply = happiness2015['Economy'].apply(label)\n",
    "\n",
    "equal = economy_impact_map.equals(economy_impact_apply)"
   ]
  },
  {
   "cell_type": "code",
   "execution_count": null,
   "metadata": {},
   "outputs": [],
   "source": [
    "#Creating new colmn with map and apply\n",
    "'''\n",
    "def label(element):\n",
    "    if element > 1:\n",
    "        return 'High'\n",
    "    else:\n",
    "        return 'Low'\n",
    "economy_impact_apply = happiness2015['Economy'].apply(label)\n",
    "'''\n",
    "#updated\n",
    "def label(element, x):\n",
    "    if element > x:\n",
    "        return 'High'\n",
    "    else:\n",
    "        return 'Low'\n",
    "economy_impact_apply = happiness2015['Economy'].apply(label, x=0.8)"
   ]
  },
  {
   "cell_type": "code",
   "execution_count": 18,
   "metadata": {},
   "outputs": [
    {
     "output_type": "execute_result",
     "data": {
      "text/plain": "    Economy Family Health Freedom Trust Generosity\n0      High   High    Low     Low   Low        Low\n1      High   High    Low     Low   Low        Low\n2      High   High    Low     Low   Low        Low\n3      High   High    Low     Low   Low        Low\n4      High   High    Low     Low   Low        Low\n..      ...    ...    ...     ...   ...        ...\n153     Low    Low    Low     Low   Low        Low\n154     Low    Low    Low     Low   Low        Low\n155     Low    Low    Low     Low   Low        Low\n156     Low    Low    Low     Low   Low        Low\n157     Low    Low    Low     Low   Low        Low\n\n[158 rows x 6 columns]",
      "text/html": "<div>\n<style scoped>\n    .dataframe tbody tr th:only-of-type {\n        vertical-align: middle;\n    }\n\n    .dataframe tbody tr th {\n        vertical-align: top;\n    }\n\n    .dataframe thead th {\n        text-align: right;\n    }\n</style>\n<table border=\"1\" class=\"dataframe\">\n  <thead>\n    <tr style=\"text-align: right;\">\n      <th></th>\n      <th>Economy</th>\n      <th>Family</th>\n      <th>Health</th>\n      <th>Freedom</th>\n      <th>Trust</th>\n      <th>Generosity</th>\n    </tr>\n  </thead>\n  <tbody>\n    <tr>\n      <td>0</td>\n      <td>High</td>\n      <td>High</td>\n      <td>Low</td>\n      <td>Low</td>\n      <td>Low</td>\n      <td>Low</td>\n    </tr>\n    <tr>\n      <td>1</td>\n      <td>High</td>\n      <td>High</td>\n      <td>Low</td>\n      <td>Low</td>\n      <td>Low</td>\n      <td>Low</td>\n    </tr>\n    <tr>\n      <td>2</td>\n      <td>High</td>\n      <td>High</td>\n      <td>Low</td>\n      <td>Low</td>\n      <td>Low</td>\n      <td>Low</td>\n    </tr>\n    <tr>\n      <td>3</td>\n      <td>High</td>\n      <td>High</td>\n      <td>Low</td>\n      <td>Low</td>\n      <td>Low</td>\n      <td>Low</td>\n    </tr>\n    <tr>\n      <td>4</td>\n      <td>High</td>\n      <td>High</td>\n      <td>Low</td>\n      <td>Low</td>\n      <td>Low</td>\n      <td>Low</td>\n    </tr>\n    <tr>\n      <td>...</td>\n      <td>...</td>\n      <td>...</td>\n      <td>...</td>\n      <td>...</td>\n      <td>...</td>\n      <td>...</td>\n    </tr>\n    <tr>\n      <td>153</td>\n      <td>Low</td>\n      <td>Low</td>\n      <td>Low</td>\n      <td>Low</td>\n      <td>Low</td>\n      <td>Low</td>\n    </tr>\n    <tr>\n      <td>154</td>\n      <td>Low</td>\n      <td>Low</td>\n      <td>Low</td>\n      <td>Low</td>\n      <td>Low</td>\n      <td>Low</td>\n    </tr>\n    <tr>\n      <td>155</td>\n      <td>Low</td>\n      <td>Low</td>\n      <td>Low</td>\n      <td>Low</td>\n      <td>Low</td>\n      <td>Low</td>\n    </tr>\n    <tr>\n      <td>156</td>\n      <td>Low</td>\n      <td>Low</td>\n      <td>Low</td>\n      <td>Low</td>\n      <td>Low</td>\n      <td>Low</td>\n    </tr>\n    <tr>\n      <td>157</td>\n      <td>Low</td>\n      <td>Low</td>\n      <td>Low</td>\n      <td>Low</td>\n      <td>Low</td>\n      <td>Low</td>\n    </tr>\n  </tbody>\n</table>\n<p>158 rows × 6 columns</p>\n</div>"
     },
     "metadata": {},
     "execution_count": 18
    }
   ],
   "source": [
    "#Apply function element-wise to mult colimns using applymap METHOD\n",
    "#dataframe.appymap(function_name)\n",
    "def label(element):\n",
    "    if element > 1:\n",
    "        return 'High'\n",
    "    else:\n",
    "        return 'Low'\n",
    "economy_apply = happiness2015['Economy'].apply(label)\n",
    "factors = ['Economy', 'Family', 'Health', 'Freedom', 'Trust', 'Generosity']\n",
    "factors_impact = happiness2015[factors].applymap(label)\n",
    "factors_impact"
   ]
  },
  {
   "cell_type": "code",
   "execution_count": 17,
   "metadata": {},
   "outputs": [
    {
     "output_type": "execute_result",
     "data": {
      "text/plain": "       Economy    Family    Health  Freedom  Trust  Generosity\nHigh  0.417722  0.563291  0.012658      NaN    NaN         NaN\nLow   0.582278  0.436709  0.987342      1.0    1.0         1.0",
      "text/html": "<div>\n<style scoped>\n    .dataframe tbody tr th:only-of-type {\n        vertical-align: middle;\n    }\n\n    .dataframe tbody tr th {\n        vertical-align: top;\n    }\n\n    .dataframe thead th {\n        text-align: right;\n    }\n</style>\n<table border=\"1\" class=\"dataframe\">\n  <thead>\n    <tr style=\"text-align: right;\">\n      <th></th>\n      <th>Economy</th>\n      <th>Family</th>\n      <th>Health</th>\n      <th>Freedom</th>\n      <th>Trust</th>\n      <th>Generosity</th>\n    </tr>\n  </thead>\n  <tbody>\n    <tr>\n      <td>High</td>\n      <td>0.417722</td>\n      <td>0.563291</td>\n      <td>0.012658</td>\n      <td>NaN</td>\n      <td>NaN</td>\n      <td>NaN</td>\n    </tr>\n    <tr>\n      <td>Low</td>\n      <td>0.582278</td>\n      <td>0.436709</td>\n      <td>0.987342</td>\n      <td>1.0</td>\n      <td>1.0</td>\n      <td>1.0</td>\n    </tr>\n  </tbody>\n</table>\n</div>"
     },
     "metadata": {},
     "execution_count": 17
    }
   ],
   "source": [
    "#Apply functions along axis with apply method\n",
    "#USE map or apply for SERIES, applymap for DATAFRAME\n",
    "def v_counts(col):\n",
    "    num = col.value_counts()\n",
    "    den = col.size\n",
    "    return num / den\n",
    "v_counts_pct = factors_impact.apply(v_counts)\n",
    "v_counts_pct\n"
   ]
  },
  {
   "cell_type": "code",
   "execution_count": 19,
   "metadata": {},
   "outputs": [],
   "source": [
    "#Functions along axis wth apply method\n",
    "factors = ['Economy', 'Family', 'Health', 'Freedom', 'Trust', 'Generosity', 'Dystopia Residual']\n",
    "\n",
    "def percentages(col):\n",
    "    div = col / happiness2015['Happiness Score']\n",
    "    return div*100\n",
    "\n",
    "#percent of happiness score each value contributes\n",
    "factor_percentages = happiness2015[factors].apply(percentages)"
   ]
  },
  {
   "cell_type": "code",
   "execution_count": 21,
   "metadata": {},
   "outputs": [
    {
     "output_type": "execute_result",
     "data": {
      "text/plain": "          Country                           Region  Happiness Rank  \\\n0     Switzerland                   Western Europe               1   \n1         Iceland                   Western Europe               2   \n2         Denmark                   Western Europe               3   \n3          Norway                   Western Europe               4   \n4          Canada                    North America               5   \n...           ...                              ...             ...   \n1101       Rwanda               Sub-Saharan Africa             154   \n1102        Benin               Sub-Saharan Africa             155   \n1103        Syria  Middle East and Northern Africa             156   \n1104      Burundi               Sub-Saharan Africa             157   \n1105         Togo               Sub-Saharan Africa             158   \n\n      Happiness Score           variable    value  Percentage  \n0               7.587            Economy  1.39651       18.41  \n1               7.561            Economy  1.30232       17.22  \n2               7.527            Economy  1.32548       17.61  \n3               7.522            Economy  1.45900       19.40  \n4               7.427            Economy  1.32629       17.86  \n...               ...                ...      ...         ...  \n1101            3.465  Dystopia Residual  0.67042       19.35  \n1102            3.340  Dystopia Residual  1.63328       48.90  \n1103            3.006  Dystopia Residual  0.32858       10.93  \n1104            2.905  Dystopia Residual  1.83302       63.10  \n1105            2.839  Dystopia Residual  1.56726       55.20  \n\n[1106 rows x 7 columns]",
      "text/html": "<div>\n<style scoped>\n    .dataframe tbody tr th:only-of-type {\n        vertical-align: middle;\n    }\n\n    .dataframe tbody tr th {\n        vertical-align: top;\n    }\n\n    .dataframe thead th {\n        text-align: right;\n    }\n</style>\n<table border=\"1\" class=\"dataframe\">\n  <thead>\n    <tr style=\"text-align: right;\">\n      <th></th>\n      <th>Country</th>\n      <th>Region</th>\n      <th>Happiness Rank</th>\n      <th>Happiness Score</th>\n      <th>variable</th>\n      <th>value</th>\n      <th>Percentage</th>\n    </tr>\n  </thead>\n  <tbody>\n    <tr>\n      <td>0</td>\n      <td>Switzerland</td>\n      <td>Western Europe</td>\n      <td>1</td>\n      <td>7.587</td>\n      <td>Economy</td>\n      <td>1.39651</td>\n      <td>18.41</td>\n    </tr>\n    <tr>\n      <td>1</td>\n      <td>Iceland</td>\n      <td>Western Europe</td>\n      <td>2</td>\n      <td>7.561</td>\n      <td>Economy</td>\n      <td>1.30232</td>\n      <td>17.22</td>\n    </tr>\n    <tr>\n      <td>2</td>\n      <td>Denmark</td>\n      <td>Western Europe</td>\n      <td>3</td>\n      <td>7.527</td>\n      <td>Economy</td>\n      <td>1.32548</td>\n      <td>17.61</td>\n    </tr>\n    <tr>\n      <td>3</td>\n      <td>Norway</td>\n      <td>Western Europe</td>\n      <td>4</td>\n      <td>7.522</td>\n      <td>Economy</td>\n      <td>1.45900</td>\n      <td>19.40</td>\n    </tr>\n    <tr>\n      <td>4</td>\n      <td>Canada</td>\n      <td>North America</td>\n      <td>5</td>\n      <td>7.427</td>\n      <td>Economy</td>\n      <td>1.32629</td>\n      <td>17.86</td>\n    </tr>\n    <tr>\n      <td>...</td>\n      <td>...</td>\n      <td>...</td>\n      <td>...</td>\n      <td>...</td>\n      <td>...</td>\n      <td>...</td>\n      <td>...</td>\n    </tr>\n    <tr>\n      <td>1101</td>\n      <td>Rwanda</td>\n      <td>Sub-Saharan Africa</td>\n      <td>154</td>\n      <td>3.465</td>\n      <td>Dystopia Residual</td>\n      <td>0.67042</td>\n      <td>19.35</td>\n    </tr>\n    <tr>\n      <td>1102</td>\n      <td>Benin</td>\n      <td>Sub-Saharan Africa</td>\n      <td>155</td>\n      <td>3.340</td>\n      <td>Dystopia Residual</td>\n      <td>1.63328</td>\n      <td>48.90</td>\n    </tr>\n    <tr>\n      <td>1103</td>\n      <td>Syria</td>\n      <td>Middle East and Northern Africa</td>\n      <td>156</td>\n      <td>3.006</td>\n      <td>Dystopia Residual</td>\n      <td>0.32858</td>\n      <td>10.93</td>\n    </tr>\n    <tr>\n      <td>1104</td>\n      <td>Burundi</td>\n      <td>Sub-Saharan Africa</td>\n      <td>157</td>\n      <td>2.905</td>\n      <td>Dystopia Residual</td>\n      <td>1.83302</td>\n      <td>63.10</td>\n    </tr>\n    <tr>\n      <td>1105</td>\n      <td>Togo</td>\n      <td>Sub-Saharan Africa</td>\n      <td>158</td>\n      <td>2.839</td>\n      <td>Dystopia Residual</td>\n      <td>1.56726</td>\n      <td>55.20</td>\n    </tr>\n  </tbody>\n</table>\n<p>1106 rows × 7 columns</p>\n</div>"
     },
     "metadata": {},
     "execution_count": 21
    }
   ],
   "source": [
    "#Reshaping data with melt()\n",
    "#pd.melt(df, id_vars=[col1,col2], value_vars=[col3, col4])\n",
    "main_cols = ['Country', 'Region', 'Happiness Rank', 'Happiness Score']\n",
    "factors = ['Economy', 'Family', 'Health', 'Freedom', 'Trust', 'Generosity', 'Dystopia Residual']\n",
    "#reshape df with main_cols staying the same, value_vars being turned into rows\n",
    "melt = pd.melt(happiness2015, id_vars=main_cols, value_vars=factors)\n",
    "\n",
    "#add new col to melt with pct being the result of value col divided by happiness col *100, rounded to 2 decimal places\n",
    "melt['Percentage'] = round(melt['value'] / melt['Happiness Score'] * 100, 2)\n",
    "melt\n"
   ]
  },
  {
   "cell_type": "code",
   "execution_count": null,
   "metadata": {},
   "outputs": [],
   "source": [
    "#Aggregate data and create visualization\n",
    "melt = pd.melt(happiness2015, id_vars = ['Country', 'Region', 'Happiness Rank', 'Happiness Score'], value_vars= ['Economy', 'Family', 'Health', 'Freedom', 'Trust', 'Generosity', 'Dystopia Residual'])\n",
    "melt['Percentage'] = round(melt['value']/melt['Happiness Score'] * 100, 2)\n",
    "\n",
    "pv_melt = melt.pivot_table(index = 'variable', values='value')\n",
    "pv_melt.plot(kind='pie', y='value', legend=False)"
   ]
  }
 ],
 "metadata": {
  "language_info": {
   "codemirror_mode": {
    "name": "ipython",
    "version": 3
   },
   "file_extension": ".py",
   "mimetype": "text/x-python",
   "name": "python",
   "nbconvert_exporter": "python",
   "pygments_lexer": "ipython3",
   "version": "3.7.4-final"
  },
  "orig_nbformat": 2,
  "kernelspec": {
   "name": "python37464bitbasecondae6d94403c8c74c4da5694606c3b74da6",
   "display_name": "Python 3.7.4 64-bit ('base': conda)"
  }
 },
 "nbformat": 4,
 "nbformat_minor": 2
}